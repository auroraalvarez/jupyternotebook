{
 "cells": [
  {
   "cell_type": "markdown",
   "id": "d8b3c4e2-5876-4dea-9921-6ee3bb88065a",
   "metadata": {},
   "source": [
    "<h1> Data Science Ecosystems and Tools"
   ]
  },
  {
   "cell_type": "markdown",
   "id": "3e837f8d-d33a-4e78-ad7a-8be71ecf6e72",
   "metadata": {},
   "source": [
    "In this notebook, Data Science Tools and Ecosystem are summarized.\n"
   ]
  },
  {
   "cell_type": "markdown",
   "id": "677171b6-3636-46a2-9941-2082a6a6743a",
   "metadata": {},
   "source": [
    "**Objectives:**\n",
    "- List popular languages for Data Science\n",
    "- List popular libraries used for Data Science\n",
    "- Mention some development tools used in Data Science\n",
    "- Show examples of arithmetic functions\n"
   ]
  },
  {
   "cell_type": "markdown",
   "id": "011cf572-100d-4eb9-a4af-0fca9adcf459",
   "metadata": {},
   "source": [
    "<h3> Some of the popular languages that Data Scientists use are:\n"
   ]
  },
  {
   "cell_type": "markdown",
   "id": "9817cafd-0fdd-453e-8792-ecc87f4f2d05",
   "metadata": {},
   "source": [
    "1. Python\n",
    "2. R\n",
    "3. SQL\n",
    "4. Others like: Java, Scala, C++, JavaScript, Julia."
   ]
  },
  {
   "cell_type": "markdown",
   "id": "3272bbe4-5682-409e-979b-f0cd7613abd8",
   "metadata": {},
   "source": [
    "<h3> Some of the commonly used libraries used by Data Scientists include:\n"
   ]
  },
  {
   "cell_type": "markdown",
   "id": "f7c9007b-91df-44bd-b203-0a24fbc21d09",
   "metadata": {},
   "source": [
    "1. Pandas\n",
    "2. NumPy\n",
    "3. Matplotlib\n",
    "4. SciKit-learn\n",
    "5. PyTorch"
   ]
  },
  {
   "cell_type": "markdown",
   "id": "560b4ce0-5f35-4890-bd47-201f6af01ec7",
   "metadata": {},
   "source": [
    "|Data Science Tools|\n",
    "|------------------|\n",
    "|Jupyter Notebooks|\n",
    "|R Studio|\n",
    "|Apache Zeppelin|"
   ]
  },
  {
   "cell_type": "markdown",
   "id": "dcb2e432-cf56-4686-8d5b-29a76118f331",
   "metadata": {},
   "source": [
    "<h3> Below are a few examples of evaluating arithmetic expressions in Python.\n"
   ]
  },
  {
   "cell_type": "code",
   "execution_count": 1,
   "id": "65f402aa-163e-4063-8ac2-280eb9cf47e2",
   "metadata": {
    "tags": []
   },
   "outputs": [
    {
     "data": {
      "text/plain": [
       "17"
      ]
     },
     "execution_count": 1,
     "metadata": {},
     "output_type": "execute_result"
    }
   ],
   "source": [
    "#This a simple arithmetic expression to mutiply then add integers.\n",
    "(3*4)+5"
   ]
  },
  {
   "cell_type": "code",
   "execution_count": 2,
   "id": "b0e7ef2f-397e-4735-9e92-449ec6b73205",
   "metadata": {
    "tags": []
   },
   "outputs": [
    {
     "data": {
      "text/plain": [
       "3.3333333333333335"
      ]
     },
     "execution_count": 2,
     "metadata": {},
     "output_type": "execute_result"
    }
   ],
   "source": [
    "#This will convert 200 minutes to hours by diving by 60\n",
    "200/60"
   ]
  },
  {
   "cell_type": "markdown",
   "id": "0d665c5a-ca78-4ec0-9190-7ca933418c3c",
   "metadata": {},
   "source": [
    "<h2> Author </h2>\n",
    "Aurora Álvarez Aguirre\n"
   ]
  },
  {
   "cell_type": "code",
   "execution_count": null,
   "id": "3614ef89-d6a7-41d1-a07b-0715138a5031",
   "metadata": {},
   "outputs": [],
   "source": []
  }
 ],
 "metadata": {
  "kernelspec": {
   "display_name": "Python",
   "language": "python",
   "name": "conda-env-python-py"
  },
  "language_info": {
   "codemirror_mode": {
    "name": "ipython",
    "version": 3
   },
   "file_extension": ".py",
   "mimetype": "text/x-python",
   "name": "python",
   "nbconvert_exporter": "python",
   "pygments_lexer": "ipython3",
   "version": "3.7.12"
  }
 },
 "nbformat": 4,
 "nbformat_minor": 5
}
